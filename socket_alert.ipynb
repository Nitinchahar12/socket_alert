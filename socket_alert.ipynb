{
 "cells": [
  {
   "cell_type": "code",
   "execution_count": 1,
   "metadata": {},
   "outputs": [],
   "source": [
    "from lxml import etree\n",
    "import socket\n",
    "import sys\n",
    "import binascii\n",
    "import crc16\n",
    "import crcmod\n",
    "import crcmod.predefined\n",
    "from binascii import unhexlify\n"
   ]
  },
  {
   "cell_type": "code",
   "execution_count": 2,
   "metadata": {},
   "outputs": [],
   "source": [
    "def get_data():\n",
    "    doc = etree.parse('/path/to/file/config.xml')\n",
    "    root = doc.getroot()\n",
    "    \n",
    "    client= root.find('ClientId')\n",
    "    client_id = client.text\n",
    "    panel= root.find('SOLID')\n",
    "    panel_id = panel.text\n",
    "    s = root.find('Server_IP')\n",
    "    server_ip = s.text\n",
    "    p = root.find('Server_Port')\n",
    "    port = p.text\n",
    "    seq_no = \"0001\"\n",
    "    rev_no = \"000001\"\n",
    "    base_msg = '\"SIA-DCS\"' + seq_no + \"R\" + rev_no + \"L\" + client_id + \"#\" + panel_id + \"[#\" + panel_id + \"|PWR001|V3.01|]_18:14:07,02-07-2020\"\n",
    "    return base_msg\n"
   ]
  },
  {
   "cell_type": "code",
   "execution_count": 3,
   "metadata": {},
   "outputs": [],
   "source": [
    "def string_to_send():\n",
    "    base_msg = '\"SIA-DCS\"0001R000001L000123#180102[#180102|CMA031|1|0|/path/of/image]_18:14:07,02-07-2020'.upper()\n",
    "    #print(base_msg)\n",
    "    base_length = '00'+ str(hex(len(base_msg)).split('x')[-1]) + base_msg\n",
    "    #print(base_length)\n",
    "    crc16 = crcmod.mkCrcFun(0x18005, rev=True, initCrc=0x0000, xorOut=0x0000)\n",
    "    crc = hex(crc16(str(base_msg).encode()))\n",
    "    s = crc.split('x')[-1] + base_length\n",
    "    string_send = s.upper()\n",
    "    msgg = \"\\n\" + string_send + \"\\r\"\n",
    "    message = msgg.encode()\n",
    "    print(message)\n",
    "    \n",
    "    return message"
   ]
  },
  {
   "cell_type": "code",
   "execution_count": 4,
   "metadata": {},
   "outputs": [],
   "source": [
    "def send_to_server():\n",
    "    message = string_to_send()\n",
    "    sock = socket.socket(socket.AF_INET, socket.SOCK_STREAM)\n",
    "    server_ip = 10.0.0.0\n",
    "    port=1234\n",
    "    server_address = (server_ip, port)\n",
    "    print(sys.stderr, 'connecting to %s port %s' % server_address)\n",
    "    sock.connect(server_address)\n",
    "    sock.sendall(message)\n",
    "    d = sock.recv(1024)\n",
    "    print(d.decode(\"utf-8\"))\n",
    "    return d"
   ]
  },
  {
   "cell_type": "code",
   "execution_count": 5,
   "metadata": {},
   "outputs": [
    {
     "name": "stdout",
     "output_type": "stream",
     "text": [
      "b'\\n45A60059\"SIA-DCS\"0001R000001L000123#180102[#180102|CMA031|1|0|/PATH/OF/IMAGE]_18:14:07,02-07-2020\\r'\n",
      "<ipykernel.iostream.OutStream object at 0x7fd75b740710> connecting to 10.0.0.157 port 8092\n",
      "\n",
      "24930032\"ACK\"0001R000001L000123#180102[]_16:08:48,02-12-2020\n",
      "\n"
     ]
    }
   ],
   "source": [
    "d = send_to_server()\n"
   ]
  },
  {
   "cell_type": "code",
   "execution_count": null,
   "metadata": {},
   "outputs": [],
   "source": []
  }
 ],
 "metadata": {
  "kernelspec": {
   "display_name": "Python 3",
   "language": "python",
   "name": "python3"
  },
  "language_info": {
   "codemirror_mode": {
    "name": "ipython",
    "version": 3
   },
   "file_extension": ".py",
   "mimetype": "text/x-python",
   "name": "python",
   "nbconvert_exporter": "python",
   "pygments_lexer": "ipython3",
   "version": "3.7.4"
  }
 },
 "nbformat": 4,
 "nbformat_minor": 2
}
